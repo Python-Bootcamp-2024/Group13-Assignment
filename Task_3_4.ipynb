{
  "nbformat": 4,
  "nbformat_minor": 0,
  "metadata": {
    "colab": {
      "provenance": []
    },
    "kernelspec": {
      "name": "python3",
      "display_name": "Python 3"
    },
    "language_info": {
      "name": "python"
    }
  },
  "cells": [
    {
      "cell_type": "code",
      "execution_count": null,
      "metadata": {
        "id": "Ss1o6LVHuei0"
      },
      "outputs": [],
      "source": [
        "import matplotlib.pyplot as plt\n",
        "\n",
        "# Count the occurrences of each category\n",
        "category_counts = data['talks_about'].value_counts()\n",
        "\n",
        "# Plot the distribution as a bar chart\n",
        "plt.figure(figsize=(10, 6))\n",
        "category_counts.plot(kind='bar', color='skyblue', edgecolor='black')\n",
        "\n",
        "# Add chart details\n",
        "plt.title('Distribution of Review Categories', fontsize=16)\n",
        "plt.xlabel('Category', fontsize=14)\n",
        "plt.ylabel('Count', fontsize=14)\n",
        "plt.xticks(rotation=45, fontsize=12)\n",
        "plt.yticks(fontsize=12)\n",
        "\n",
        "# Show the chart\n",
        "plt.tight_layout()\n",
        "plt.show()"
      ]
    }
  ]
}