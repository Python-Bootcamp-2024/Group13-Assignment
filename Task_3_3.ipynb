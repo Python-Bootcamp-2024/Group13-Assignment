{
  "nbformat": 4,
  "nbformat_minor": 0,
  "metadata": {
    "colab": {
      "provenance": []
    },
    "kernelspec": {
      "name": "python3",
      "display_name": "Python 3"
    },
    "language_info": {
      "name": "python"
    }
  },
  "cells": [
    {
      "cell_type": "code",
      "execution_count": null,
      "metadata": {
        "id": "Ss1o6LVHuei0"
      },
      "outputs": [],
      "source": [
        "# Save the updated DataFrame to a new CSV file\n",
        "output_path = '/content/wine_reviews_with_labels.csv'  # Default Colab directory\n",
        "data.to_csv(output_path, index=False)\n",
        "\n",
        "# Provide the download link for the new CSV file\n",
        "from google.colab import files\n",
        "files.download(output_path)"
      ]
    }
  ]
}