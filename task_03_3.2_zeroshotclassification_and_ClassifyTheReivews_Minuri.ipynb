{
  "nbformat": 4,
  "nbformat_minor": 0,
  "metadata": {
    "colab": {
      "provenance": []
    },
    "kernelspec": {
      "name": "python3",
      "display_name": "Python 3"
    },
    "language_info": {
      "name": "python"
    }
  },
  "cells": [
    {
      "cell_type": "code",
      "execution_count": null,
      "metadata": {
        "id": "Ss1o6LVHuei0"
      },
      "outputs": [],
      "source": [
        "# Initialize the zero-shot classification pipeline\n",
        "classifier = pipeline(\"zero-shot-classification\", model=\"facebook/bart-large-mnli\")\n",
        "\n",
        "# Define candidate labels\n",
        "labels = [\n",
        "    \"talks about food combinations\",\n",
        "    \"talks about taste\",\n",
        "    \"talks about value for money\",\n",
        "    \"other\"\n",
        "]\n",
        "\n",
        "# Function to classify each review\n",
        "def classify_review(review):\n",
        "    try:\n",
        "        result = classifier(review, labels)\n",
        "        return result['labels'][0]  # The top label\n",
        "    except Exception as e:\n",
        "        return \"other\"  # Default to \"other\" in case of errors\n",
        "\n",
        "# Apply classification to the reviews column\n",
        "data['talks_about'] = data['review'].apply(classify_review)  # Replace 'review' with your actual column name"
      ]
    }
  ]
}