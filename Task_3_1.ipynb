{
 "cells": [
  {
   "cell_type": "code",
   "execution_count": null,
   "metadata": {
    "id": "Ss1o6LVHuei0"
   },
   "outputs": [],
   "source": [
    "\n",
    "!pip install transformers pandas\n",
    "\n",
    "\n",
    "import pandas as pd\n",
    "from transformers import pipeline\n",
    "from google.colab import files\n",
    "\n"
   ]
  }
 ],
 "metadata": {
  "colab": {
   "provenance": []
  },
  "kernelspec": {
   "display_name": "Python 3",
   "name": "python3"
  },
  "language_info": {
   "name": "python"
  }
 },
 "nbformat": 4,
 "nbformat_minor": 0
}
