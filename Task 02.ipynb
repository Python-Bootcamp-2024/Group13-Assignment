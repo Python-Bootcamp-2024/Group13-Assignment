{
 "cells": [
  {
   "cell_type": "markdown",
   "metadata": {},
   "source": [
    "2.4 Adding new columns to the Dataframe "
   ]
  },
  {
   "cell_type": "code",
   "execution_count": null,
   "metadata": {
    "vscode": {
     "languageId": "plaintext"
    }
   },
   "outputs": [],
   "source": [
    "# Extract 'Country' from 'Region'\n",
    "wine_df['Country'] = wine_df['Region'].apply(lambda x: x.split('/')[0].strip())\n",
    "\n",
    "# Extract 'Country_region' from 'Region'\n",
    "wine_df['Country_region'] = wine_df['Region'].apply(lambda x: x.split('/')[1].strip() if '/' in x else None)\n",
    "\n",
    "# Expand 'Food pairings' into individual columns\n",
    "from sklearn.preprocessing import MultiLabelBinarizer\n",
    "\n",
    "# Convert string to list\n",
    "wine_df['Food pairings'] = wine_df['Food pairings'].apply(lambda x: eval(x) if isinstance(x, str) else [])\n",
    "\n",
    "# Binarize the food pairings\n",
    "mlb = MultiLabelBinarizer()\n",
    "food_pairings_df = pd.DataFrame(mlb.fit_transform(wine_df['Food pairings']),\n",
    "                                columns=mlb.classes_,\n",
    "                                index=wine_df.index)\n",
    "\n",
    "# Concatenate the new columns\n",
    "wine_df = pd.concat([wine_df, food_pairings_df], axis=1)\n",
    "\n",
    "# Drop the original 'Food pairings' column\n",
    "wine_df = wine_df.drop(columns=['Food pairings'])\n",
    "\n",
    "# Display the updated DataFrame\n",
    "wine_df"
   ]
  },
  {
   "cell_type": "markdown",
   "metadata": {},
   "source": [
    "2.6 Pivoting / Grouping results (Excel file)\n"
   ]
  },
  {
   "cell_type": "code",
   "execution_count": null,
   "metadata": {
    "vscode": {
     "languageId": "plaintext"
    }
   },
   "outputs": [],
   "source": [
    "with pd.ExcelWriter(output_path) as writer:\n",
    "\n",
    "    data.to_excel(writer, sheet_name='Original Data', index=False)\n",
    "\n",
    "    average_rating_by_style.to_excel(writer, sheet_name='Avg Rating by Style', index=False)\n",
    "\n",
    "    top_rated_wine_by_country.to_excel(writer, sheet_name='Top Rated by Country', index=False)\n",
    "\n",
    "    food_pairing_summary.to_excel(writer, sheet_name='Food Pairing Summary', index=False)\n",
    "\n",
    "print(f\"Analysis Pivoting / Grouping results written to {output_path}\")\n"
   ]
  }
 ],
 "metadata": {
  "language_info": {
   "name": "python"
  }
 },
 "nbformat": 4,
 "nbformat_minor": 2
}
